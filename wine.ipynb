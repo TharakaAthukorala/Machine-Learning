{
  "nbformat": 4,
  "nbformat_minor": 0,
  "metadata": {
    "colab": {
      "name": "wine.ipynb",
      "provenance": [],
      "authorship_tag": "ABX9TyNbadhFzo6fshkEus0A8rY4",
      "include_colab_link": true
    },
    "kernelspec": {
      "name": "python3",
      "display_name": "Python 3"
    },
    "language_info": {
      "name": "python"
    }
  },
  "cells": [
    {
      "cell_type": "markdown",
      "metadata": {
        "id": "view-in-github",
        "colab_type": "text"
      },
      "source": [
        "<a href=\"https://colab.research.google.com/github/TharakaAthukorala/Machine-Learning/blob/main/wine.ipynb\" target=\"_parent\"><img src=\"https://colab.research.google.com/assets/colab-badge.svg\" alt=\"Open In Colab\"/></a>"
      ]
    },
    {
      "cell_type": "code",
      "metadata": {
        "id": "Zay2tLq2As_i"
      },
      "source": [
        "%matplotlib inline\n",
        "from mpl_toolkits.mplot3d import Axes3D\n",
        "import numpy as np\n",
        "import matplotlib.pyplot as plt\n",
        "from sklearn.preprocessing import normalize\n",
        "import pandas as pd"
      ],
      "execution_count": 198,
      "outputs": []
    },
    {
      "cell_type": "code",
      "metadata": {
        "id": "QS3s-YjqA674"
      },
      "source": [
        "data = pd.read_csv('winequality-red.csv', delimiter=';')\n",
        "# data = pd.read_csv('https://github.com/TharakaAthukorala/Machine-Learning/blob/main/winequality-red.csv', delimiter=';', skiprows=0, low_memory=False)"
      ],
      "execution_count": 199,
      "outputs": []
    },
    {
      "cell_type": "code",
      "metadata": {
        "colab": {
          "base_uri": "https://localhost:8080/"
        },
        "id": "L1BNmTz3BS-q",
        "outputId": "17ca1b42-7428-479a-daea-8f350991d0a8"
      },
      "source": [
        "data.shape"
      ],
      "execution_count": 200,
      "outputs": [
        {
          "output_type": "execute_result",
          "data": {
            "text/plain": [
              "(1599, 12)"
            ]
          },
          "metadata": {
            "tags": []
          },
          "execution_count": 200
        }
      ]
    },
    {
      "cell_type": "code",
      "metadata": {
        "id": "XJ4PUYBCBay3"
      },
      "source": [
        "# data = normalize(data, axis=0)"
      ],
      "execution_count": 201,
      "outputs": []
    },
    {
      "cell_type": "code",
      "metadata": {
        "id": "UEHmzdAdCpK7"
      },
      "source": [
        "X = data.values[:, 0:11]\n",
        "y = data.values[:, 11]\n",
        "m = len(y)"
      ],
      "execution_count": 202,
      "outputs": []
    },
    {
      "cell_type": "code",
      "metadata": {
        "id": "04I8soq7JCfV"
      },
      "source": [
        "def normalize(X):\n",
        "  \"\"\"\n",
        "    Normalizes the features(input variables) in X.\n",
        "\n",
        "    Parameters\n",
        "    ----------\n",
        "    X : n dimensional array (matrix), shape (n_samples, n_features)\n",
        "        Features(input varibale) to be normalized.\n",
        "\n",
        "    Returns\n",
        "    -------\n",
        "    X_norm : n dimensional array (matrix), shape (n_samples, n_features)\n",
        "        A normalized version of X.\n",
        "    mu : n dimensional array (matrix), shape (n_features,)\n",
        "        The mean value.\n",
        "    sigma : n dimensional array (matrix), shape (n_features,)\n",
        "        The standard deviation.\n",
        "  \"\"\"\n",
        "  #Note here we need mean of indivdual column here, hence axis = 0\n",
        "  mu = np.mean(X, axis = 0)  \n",
        "  # Notice the parameter ddof (Delta Degrees of Freedom)  value is 1\n",
        "  sigma = np.std(X, axis= 0, ddof = 1)  # Standard deviation (can also use range)\n",
        "  X_norm = (X - mu)/sigma\n",
        "  return X_norm, mu, sigma"
      ],
      "execution_count": 203,
      "outputs": []
    },
    {
      "cell_type": "code",
      "metadata": {
        "id": "0wppeSKVJOuN"
      },
      "source": [
        "X, mu, sigma = normalize(X)\n",
        "X = np.hstack((np.ones((m,1)), X))"
      ],
      "execution_count": 204,
      "outputs": []
    },
    {
      "cell_type": "code",
      "metadata": {
        "id": "Gmaa53njJq2w"
      },
      "source": [
        "def compute_cost(X, y, theta):\n",
        "  \"\"\"\n",
        "  Compute the cost of a particular choice of theta for linear regression.\n",
        "\n",
        "  Input Parameters\n",
        "  ----------------\n",
        "  X : 2D array where each row represent the training example and each column represent the feature ndarray. Dimension(m x n)\n",
        "      m= number of training examples\n",
        "      n= number of features (including X_0 column of ones)\n",
        "  y : 1D array of labels/target value for each traing example. dimension(1 x m)\n",
        "\n",
        "  theta : 1D array of fitting parameters or weights. Dimension (1 x n)\n",
        "\n",
        "  Output Parameters\n",
        "  -----------------\n",
        "  J : Scalar value.\n",
        "  \"\"\"\n",
        "  predictions = X.dot(theta)\n",
        "  #print('predictions= ', predictions[:5])\n",
        "  errors = np.subtract(predictions, y)\n",
        "  #print('errors= ', errors[:5]) \n",
        "  sqrErrors = np.square(errors)\n",
        "  #print('sqrErrors= ', sqrErrors[:5]) \n",
        "  J = 1 / (2 * m) * np.sum(sqrErrors)\n",
        "  # OR\n",
        "  # We can merge 'square' and 'sum' into one by taking the transpose of matrix 'errors' and taking dot product with itself\n",
        "  # If your confuse about this try to do this with few values for better understanding  \n",
        "  # J = 1/(2 * m) * errors.T.dot(errors)\n",
        "\n",
        "  return J"
      ],
      "execution_count": 205,
      "outputs": []
    },
    {
      "cell_type": "code",
      "metadata": {
        "id": "WpifrpTPKH4O"
      },
      "source": [
        "def gradient_descent(X, y, theta, alpha, iterations):\n",
        "  \"\"\"\n",
        "  Compute cost for linear regression.\n",
        "\n",
        "  Input Parameters\n",
        "  ----------------\n",
        "  X : 2D array where each row represent the training example and each column represent the feature ndarray. Dimension(m x n)\n",
        "      m= number of training examples\n",
        "      n= number of features (including X_0 column of ones)\n",
        "  y : 1D array of labels/target value for each traing example. dimension(m x 1)\n",
        "  theta : 1D array of fitting parameters or weights. Dimension (1 x n)\n",
        "  alpha : Learning rate. Scalar value\n",
        "  iterations: No of iterations. Scalar value. \n",
        "\n",
        "  Output Parameters\n",
        "  -----------------\n",
        "  theta : Final Value. 1D array of fitting parameters or weights. Dimension (1 x n)\n",
        "  cost_history: Conatins value of cost for each iteration. 1D array. Dimansion(m x 1)\n",
        "  \"\"\"\n",
        "  cost_history = np.zeros(iterations)\n",
        "\n",
        "  for i in range(iterations):\n",
        "    predictions = X.dot(theta)\n",
        "    #print('predictions= ', predictions[:5])\n",
        "    errors = np.subtract(predictions, y)\n",
        "    #print('errors= ', errors[:5])\n",
        "    sum_delta = (alpha / m) * X.transpose().dot(errors);\n",
        "    #print('sum_delta= ', sum_delta[:5])\n",
        "    theta = theta - sum_delta;\n",
        "\n",
        "    cost_history[i] = compute_cost(X, y, theta)  \n",
        "\n",
        "  return theta, cost_history"
      ],
      "execution_count": 206,
      "outputs": []
    },
    {
      "cell_type": "code",
      "metadata": {
        "colab": {
          "base_uri": "https://localhost:8080/"
        },
        "id": "6X6s6iP1KbZ_",
        "outputId": "715f6261-5835-4828-e870-ce655bdb1ab8"
      },
      "source": [
        "theta = np.zeros(12)\n",
        "iterations = 400;\n",
        "alpha = 0.15;\n",
        "\n",
        "theta, cost_history = gradient_descent(X, y, theta, alpha, iterations)\n",
        "print('Final value of theta =', theta)\n",
        "print('First 5 values from cost_history =', cost_history[:13])\n",
        "print('Last 5 values from cost_history =', cost_history[-13 :])"
      ],
      "execution_count": 207,
      "outputs": [
        {
          "output_type": "stream",
          "text": [
            "Final value of theta = [ 5.63602251  0.04465519 -0.19402251 -0.03568959  0.02335535 -0.08811636\n",
            "  0.0455286  -0.10726705 -0.03476324 -0.06325282  0.15544971  0.29377168]\n",
            "First 5 values from cost_history = [11.75045619  8.53884053  6.22298368  4.55208341  3.34604044  2.47527563\n",
            "  1.84644444  1.39224965  1.06414535  0.82709787  0.65581723  0.53204308\n",
            "  0.44258854]\n",
            "Last 5 values from cost_history = [0.2083837  0.2083837  0.2083837  0.2083837  0.20838369 0.20838369\n",
            " 0.20838369 0.20838369 0.20838369 0.20838368 0.20838368 0.20838368\n",
            " 0.20838368]\n"
          ],
          "name": "stdout"
        }
      ]
    },
    {
      "cell_type": "code",
      "metadata": {
        "colab": {
          "base_uri": "https://localhost:8080/",
          "height": 312
        },
        "id": "ypH06Bg_ObB8",
        "outputId": "f2fd33f2-1496-487d-da6a-7f8f01819a8d"
      },
      "source": [
        "import matplotlib.pyplot as plt\n",
        "plt.plot(range(1, iterations +1), cost_history, color ='blue')\n",
        "plt.rcParams[\"figure.figsize\"] = (10,6)\n",
        "plt.grid()\n",
        "plt.xlabel(\"Number of iterations\")\n",
        "plt.ylabel(\"cost (J)\")\n",
        "plt.title(\"Convergence of gradient descent\")"
      ],
      "execution_count": 208,
      "outputs": [
        {
          "output_type": "execute_result",
          "data": {
            "text/plain": [
              "Text(0.5, 1.0, 'Convergence of gradient descent')"
            ]
          },
          "metadata": {
            "tags": []
          },
          "execution_count": 208
        },
        {
          "output_type": "display_data",
          "data": {
            "image/png": "[encoded data removed]",
            "text/plain": [
              "<Figure size 432x288 with 1 Axes>"
            ]
          },
          "metadata": {
            "tags": [],
            "needs_background": "light"
          }
        }
      ]
    }
  ]
}